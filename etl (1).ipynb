{
 "cells": [
  {
   "cell_type": "code",
   "execution_count": 16,
   "metadata": {
    "editable": true
   },
   "outputs": [],
   "source": [
    "import os\n",
    "import glob\n",
    "import psycopg2\n",
    "import pandas as pd\n",
    "from sqlqueries import *\n",
    "from datetime import datetime\n",
    "from createtables import *"
   ]
  },
  {
   "cell_type": "code",
   "execution_count": 17,
   "metadata": {
    "editable": true
   },
   "outputs": [],
   "source": [
    "conn=psycopg2.connect(\"host=localhost dbname=sparkifydb user=student password=student\")\n",
    "cur=conn.cursor()"
   ]
  },
  {
   "cell_type": "code",
   "execution_count": 18,
   "metadata": {
    "editable": true
   },
   "outputs": [],
   "source": [
    "def get_files(filepath):\n",
    "    all_files=[]\n",
    "    for root,dirs,files in os.walk(filepath):\n",
    "        files=glob.glob(os.path.join(root,'*.json'))\n",
    "        for f in files:\n",
    "            all_files.append(os.path.abspath(f))\n",
    "    return all_files\n",
    "        "
   ]
  },
  {
   "cell_type": "code",
   "execution_count": 19,
   "metadata": {
    "editable": true
   },
   "outputs": [],
   "source": [
    "song_files=get_files(\"data/song_data\")\n",
    "\n",
    "df=pd.read_json(song_files[0],lines=True)\n",
    "\n",
    "artist_data=(df[['artist_id','artist_name','artist_location','artist_latitude','artist_longitude']].values).tolist()\n",
    "\n",
    "cur.execute(artist_table_insert,artist_data[0])\n",
    "conn.commit()\n",
    "\n",
    "song_data=(df[['song_id','title','artist_id','year','duration']].values).tolist()\n",
    "\n",
    "cur.execute(song_table_insert,song_data[0])\n",
    "conn.commit()\n",
    "\n",
    "\n"
   ]
  },
  {
   "cell_type": "code",
   "execution_count": 5,
   "metadata": {
    "editable": true
   },
   "outputs": [
    {
     "data": {
      "text/plain": [
       "['SOINLJW12A8C13314C', 'City Slickers', 'AR8IEZO1187B99055E', 2008, 149.86404]"
      ]
     },
     "execution_count": 5,
     "metadata": {},
     "output_type": "execute_result"
    }
   ],
   "source": [
    "song_data[0]"
   ]
  },
  {
   "cell_type": "code",
   "execution_count": 20,
   "metadata": {
    "editable": true
   },
   "outputs": [],
   "source": [
    "log_files=get_files(\"data/log_data\")\n",
    "\n",
    "df1=pd.read_json(log_files[0],lines=True)\n",
    "\n",
    "df=df1[df1['page']=='NextSong']\n",
    "\n",
    "t=df['ts'].apply(lambda x: datetime.fromtimestamp(x/1000))\n",
    "\n",
    "column_labels=['time','hour','day','week','month','year','weekday']\n",
    "\n",
    "df2=pd.DataFrame(columns=column_labels)\n",
    "\n",
    "df2['time']=t\n",
    "df2['hour']=t.dt.hour\n",
    "df2['day']=t.dt.day\n",
    "df2['week']=t.dt.week\n",
    "df2['month']=t.dt.month\n",
    "df2['year']=t.dt.year\n",
    "df2['weekday']=t.dt.weekday\n",
    "\n",
    "time_df=df2\n",
    "\n",
    "\n",
    "for i,row in time_df.iterrows():\n",
    "    cur.execute(time_table_insert,list(row))\n",
    "    conn.commit()\n",
    "\n",
    "\n",
    "user_df1=df[['userId','firstName','lastName','gender','level']]\n",
    "\n",
    "user_df=user_df1[user_df1['userId']!='']\n",
    "\n",
    "for i,row in user_df.iterrows():\n",
    "    cur.execute(user_table_insert,list(row))\n",
    "    conn.commit()"
   ]
  },
  {
   "cell_type": "code",
   "execution_count": 21,
   "metadata": {
    "editable": true
   },
   "outputs": [],
   "source": [
    "for i,row in df.iterrows():\n",
    "    cur.execute(song_select,(row.song,row.artist,row.length))\n",
    "    results=cur.fetchone()\n",
    "    \n",
    "    #print(results)\n",
    "    if results:\n",
    "        song_id,artist_id=results\n",
    "    else:\n",
    "        song_id,artist_id=None,None\n",
    "    \n",
    "    songplay_data=(pd.to_datetime(row.ts,unit='ms'),int(row.userId),row.level,song_id,artist_id,row.sessionId,row.location,row.userAgent)\n",
    "    #songplay_data=(row.level)\n",
    "    cur.execute(songplay_table_insert,songplay_data)   \n",
    "    conn.commit()\n",
    "    \n",
    "    \n",
    "    \n",
    "    "
   ]
  },
  {
   "cell_type": "code",
   "execution_count": null,
   "metadata": {
    "editable": true
   },
   "outputs": [],
   "source": []
  },
  {
   "cell_type": "code",
   "execution_count": 15,
   "metadata": {
    "editable": true
   },
   "outputs": [],
   "source": [
    "conn.close()"
   ]
  },
  {
   "cell_type": "code",
   "execution_count": null,
   "metadata": {
    "editable": true
   },
   "outputs": [],
   "source": []
  },
  {
   "cell_type": "code",
   "execution_count": null,
   "metadata": {
    "editable": true
   },
   "outputs": [],
   "source": []
  },
  {
   "cell_type": "code",
   "execution_count": null,
   "metadata": {
    "editable": true
   },
   "outputs": [],
   "source": []
  }
 ],
 "metadata": {
  "kernelspec": {
   "display_name": "Python 3",
   "language": "python",
   "name": "python3"
  },
  "language_info": {
   "codemirror_mode": {
    "name": "ipython",
    "version": 3
   },
   "file_extension": ".py",
   "mimetype": "text/x-python",
   "name": "python",
   "nbconvert_exporter": "python",
   "pygments_lexer": "ipython3",
   "version": "3.6.3"
  }
 },
 "nbformat": 4,
 "nbformat_minor": 4
}
